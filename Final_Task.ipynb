{
 "cells": [
  {
   "cell_type": "code",
   "execution_count": 33,
   "id": "16e7cab8",
   "metadata": {
    "scrolled": false
   },
   "outputs": [
    {
     "name": "stdout",
     "output_type": "stream",
     "text": [
      "[]\n",
      " * Serving Flask app \"__main__\" (lazy loading)\n",
      " * Environment: production\n",
      "\u001b[31m   WARNING: This is a development server. Do not use it in a production deployment.\u001b[0m\n",
      "\u001b[2m   Use a production WSGI server instead.\u001b[0m\n",
      " * Debug mode: off\n"
     ]
    },
    {
     "name": "stderr",
     "output_type": "stream",
     "text": [
      " * Running on http://127.0.0.1:5000/ (Press CTRL+C to quit)\n",
      "127.0.0.1 - - [24/Dec/2021 22:35:00] \"GET / HTTP/1.1\" 200 -\n"
     ]
    }
   ],
   "source": [
    "from flask import Flask\n",
    "import psycopg2\n",
    "from psycopg2 import sql, extensions\n",
    "\n",
    "# initializations\n",
    "app = Flask(__name__)\n",
    "\n",
    "conn = psycopg2.connect(\n",
    "    host=\"localhost\",\n",
    "    database=\"postgres\",\n",
    "    user=\"postgres\",\n",
    "    password=\"1234\",\n",
    "    port = \"5432\")\n",
    "\n",
    "table_name = \"courses\"\n",
    "# create_table = \"drop TABLE {}\"\n",
    "# cur = conn.cursor()\n",
    "# cur.execute(sql.SQL(create_table).format(sql.Identifier( table_name )))\n",
    "# conn.commit()\n",
    "\n",
    "\n",
    "# Concatenate SQL string\n",
    "create_table = \"CREATE TABLE {} (id SERIAL PRIMARY KEY , course_name VARCHAR(128), price float(4), date DATE );\"\n",
    "cur = conn.cursor()\n",
    "\n",
    "cur.execute(sql.SQL(create_table).format(sql.Identifier( table_name )))\n",
    "conn.commit()\n",
    "\n",
    "\n",
    "# # settings\n",
    "# # app.secret_key = \"mysecretkey\"\n",
    "\n",
    "cur = conn.cursor()\n",
    "cur.execute(\"select * from courses\")\n",
    "row = cur.fetchall()\n",
    "\n",
    "print(row)\n",
    "cur.close()\n",
    "\n",
    "\n",
    "# initializations\n",
    "app = Flask(__name__)\n",
    "\n",
    "\n",
    "# settings\n",
    "app.secret_key = \"mysecretkey\"\n",
    "\n",
    "# routes\n",
    "@app.route('/')\n",
    "def Index():\n",
    "    cur = conn.cursor()\n",
    "    cur.execute('SELECT * FROM courses order by date')\n",
    "    data = cur.fetchall()\n",
    "    cur.close()\n",
    "    return render_template('index.html', courses = data)\n",
    "\n",
    "@app.route('/add_course', methods=['POST'])\n",
    "def add_course():\n",
    "    if request.method == 'POST':\n",
    "        name = request.form['course']\n",
    "        price = request.form['price']\n",
    "        date = request.form['date']\n",
    "        cur = conn.cursor()\n",
    "        cur.execute(\"INSERT INTO courses (course_name, price, date) VALUES (%s,%s,%s)\", (name, price, date))\n",
    "        conn.commit()\n",
    "        flash('Course Added successfully')\n",
    "        return redirect(url_for('Index'))\n",
    "\n",
    "@app.route('/edit/<id>', methods = ['POST', 'GET'])\n",
    "def get_course(id):\n",
    "    cur = conn.cursor()\n",
    "    cur.execute('SELECT * FROM courses WHERE id = %s', (id))\n",
    "    data = cur.fetchall()\n",
    "    cur.close()\n",
    "    print(data[0])\n",
    "    return render_template('edit-course.html', course = data[0])\n",
    "\n",
    "@app.route('/update/<id>', methods=['POST'])\n",
    "def update_course(id):\n",
    "    if request.method == 'POST':\n",
    "        course = request.form['course']\n",
    "        price = request.form['price']\n",
    "        date = request.form['date']\n",
    "        cur = conn.cursor()\n",
    "        cur.execute(\"\"\"\n",
    "            UPDATE courses\n",
    "            SET course_name = %s,\n",
    "                price = %s,\n",
    "                date = %s\n",
    "            WHERE id = %s\n",
    "        \"\"\", (course, price, date, id))\n",
    "        flash('Course Updated Successfully')\n",
    "        conn.commit()\n",
    "        return redirect(url_for('Index'))\n",
    "\n",
    "@app.route('/delete/<string:id>', methods = ['POST','GET'])\n",
    "def delete_course(id):\n",
    "    cur = conn.cursor()\n",
    "    cur.execute('DELETE FROM courses WHERE id = {0}'.format(id))\n",
    "    conn.commit()\n",
    "    flash('Course Removed Successfully')\n",
    "    return redirect(url_for('Index'))\n",
    "\n",
    "# starting the app\n",
    "if __name__ == \"__main__\":\n",
    "    app.run(port=5000, debug=False)\n",
    "\n",
    "\n"
   ]
  },
  {
   "cell_type": "code",
   "execution_count": 34,
   "id": "b279c1c9",
   "metadata": {},
   "outputs": [
    {
     "name": "stdout",
     "output_type": "stream",
     "text": [
      "Collecting pipreqs\n",
      "  Downloading pipreqs-0.4.11-py2.py3-none-any.whl (32 kB)\n",
      "Collecting docopt\n",
      "  Downloading docopt-0.6.2.tar.gz (25 kB)\n",
      "Collecting yarg\n",
      "  Downloading yarg-0.1.9-py2.py3-none-any.whl (19 kB)\n",
      "Requirement already satisfied: requests in c:\\users\\elgindy\\anaconda3\\lib\\site-packages (from yarg->pipreqs) (2.26.0)\n",
      "Requirement already satisfied: charset-normalizer~=2.0.0 in c:\\users\\elgindy\\anaconda3\\lib\\site-packages (from requests->yarg->pipreqs) (2.0.4)\n",
      "Requirement already satisfied: certifi>=2017.4.17 in c:\\users\\elgindy\\anaconda3\\lib\\site-packages (from requests->yarg->pipreqs) (2021.10.8)\n",
      "Requirement already satisfied: urllib3<1.27,>=1.21.1 in c:\\users\\elgindy\\anaconda3\\lib\\site-packages (from requests->yarg->pipreqs) (1.26.7)\n",
      "Requirement already satisfied: idna<4,>=2.5 in c:\\users\\elgindy\\anaconda3\\lib\\site-packages (from requests->yarg->pipreqs) (3.2)\n",
      "Building wheels for collected packages: docopt\n",
      "  Building wheel for docopt (setup.py): started\n",
      "  Building wheel for docopt (setup.py): finished with status 'done'\n",
      "  Created wheel for docopt: filename=docopt-0.6.2-py2.py3-none-any.whl size=13724 sha256=38365f2832e5be5863b342bb66b3369714d3ad31ac666d2835f8faef3b840d7b\n",
      "  Stored in directory: c:\\users\\elgindy\\appdata\\local\\pip\\cache\\wheels\\70\\4a\\46\\1309fc853b8d395e60bafaf1b6df7845bdd82c95fd59dd8d2b\n",
      "Successfully built docopt\n",
      "Installing collected packages: yarg, docopt, pipreqs\n",
      "Successfully installed docopt-0.6.2 pipreqs-0.4.11 yarg-0.1.9\n"
     ]
    }
   ],
   "source": [
    "!pip install pipreqs"
   ]
  },
  {
   "cell_type": "code",
   "execution_count": 35,
   "id": "6fd466cf",
   "metadata": {},
   "outputs": [
    {
     "name": "stderr",
     "output_type": "stream",
     "text": [
      "ERROR: Failed on file: /$Recycle.Bin\\S-1-5-21-529819979-3048304616-2837086153-1001\\$I18GWAW.py\n",
      "Traceback (most recent call last):\n",
      "  File \"C:\\Users\\elgindy\\anaconda3\\lib\\runpy.py\", line 197, in _run_module_as_main\n",
      "    return _run_code(code, main_globals, None,\n",
      "  File \"C:\\Users\\elgindy\\anaconda3\\lib\\runpy.py\", line 87, in _run_code\n",
      "    exec(code, run_globals)\n",
      "  File \"C:\\Users\\elgindy\\anaconda3\\Scripts\\pipreqs.exe\\__main__.py\", line 7, in <module>\n",
      "  File \"C:\\Users\\elgindy\\anaconda3\\lib\\site-packages\\pipreqs\\pipreqs.py\", line 488, in main\n",
      "    init(args)\n",
      "  File \"C:\\Users\\elgindy\\anaconda3\\lib\\site-packages\\pipreqs\\pipreqs.py\", line 415, in init\n",
      "    candidates = get_all_imports(input_path,\n",
      "  File \"C:\\Users\\elgindy\\anaconda3\\lib\\site-packages\\pipreqs\\pipreqs.py\", line 131, in get_all_imports\n",
      "    raise exc\n",
      "  File \"C:\\Users\\elgindy\\anaconda3\\lib\\site-packages\\pipreqs\\pipreqs.py\", line 117, in get_all_imports\n",
      "    tree = ast.parse(contents)\n",
      "  File \"C:\\Users\\elgindy\\anaconda3\\lib\\ast.py\", line 50, in parse\n",
      "    return compile(source, filename, mode, flags,\n",
      "ValueError: source code string cannot contain null bytes\n"
     ]
    }
   ],
   "source": [
    "!pipreqs /"
   ]
  },
  {
   "cell_type": "code",
   "execution_count": 1,
   "id": "e962f3df",
   "metadata": {},
   "outputs": [
    {
     "name": "stdout",
     "output_type": "stream",
     "text": [
      "\n",
      "Note: you may need to restart the kernel to use updated packages.\n"
     ]
    }
   ],
   "source": [
    "conda list -e > requirements.txt"
   ]
  },
  {
   "cell_type": "code",
   "execution_count": 2,
   "id": "14178457",
   "metadata": {},
   "outputs": [
    {
     "name": "stdout",
     "output_type": "stream",
     "text": [
      "^C\n"
     ]
    }
   ],
   "source": [
    "!pipreqs ./"
   ]
  },
  {
   "cell_type": "code",
   "execution_count": 3,
   "id": "818fb1cb",
   "metadata": {
    "scrolled": true
   },
   "outputs": [
    {
     "name": "stdout",
     "output_type": "stream",
     "text": [
      "Collecting to-requirements.txt\n",
      "  Downloading to_requirements.txt-1.1.5-py3-none-any.whl (9.1 kB)\n",
      "Collecting appdata==2.1.1\n",
      "  Downloading appdata-2.1.1-py3-none-any.whl (7.4 kB)\n",
      "Requirement already satisfied: click==8.0.3 in c:\\users\\elgindy\\anaconda3\\lib\\site-packages (from to-requirements.txt) (8.0.3)\n",
      "Collecting coveralls==3.3.1\n",
      "  Downloading coveralls-3.3.1-py2.py3-none-any.whl (14 kB)\n",
      "Collecting pytest==6.2.5\n",
      "  Downloading pytest-6.2.5-py3-none-any.whl (280 kB)\n",
      "Collecting loguru==0.4.1\n",
      "  Downloading loguru-0.4.1-py3-none-any.whl (54 kB)\n",
      "Requirement already satisfied: colorama in c:\\users\\elgindy\\anaconda3\\lib\\site-packages (from click==8.0.3->to-requirements.txt) (0.4.4)\n",
      "Requirement already satisfied: requests>=1.0.0 in c:\\users\\elgindy\\anaconda3\\lib\\site-packages (from coveralls==3.3.1->appdata==2.1.1->to-requirements.txt) (2.26.0)\n",
      "Requirement already satisfied: docopt>=0.6.1 in c:\\users\\elgindy\\anaconda3\\lib\\site-packages (from coveralls==3.3.1->appdata==2.1.1->to-requirements.txt) (0.6.2)\n",
      "Collecting coverage!=6.0.*,!=6.1,!=6.1.1,<7.0,>=4.1\n",
      "  Downloading coverage-6.2-cp39-cp39-win_amd64.whl (183 kB)\n",
      "Collecting win32-setctime>=1.0.0\n",
      "  Downloading win32_setctime-1.0.4-py3-none-any.whl (3.5 kB)\n",
      "Requirement already satisfied: pluggy<2.0,>=0.12 in c:\\users\\elgindy\\anaconda3\\lib\\site-packages (from pytest==6.2.5->appdata==2.1.1->to-requirements.txt) (0.13.1)\n",
      "Requirement already satisfied: attrs>=19.2.0 in c:\\users\\elgindy\\anaconda3\\lib\\site-packages (from pytest==6.2.5->appdata==2.1.1->to-requirements.txt) (21.2.0)\n",
      "Requirement already satisfied: toml in c:\\users\\elgindy\\anaconda3\\lib\\site-packages (from pytest==6.2.5->appdata==2.1.1->to-requirements.txt) (0.10.2)\n",
      "Requirement already satisfied: iniconfig in c:\\users\\elgindy\\anaconda3\\lib\\site-packages (from pytest==6.2.5->appdata==2.1.1->to-requirements.txt) (1.1.1)\n",
      "Requirement already satisfied: packaging in c:\\users\\elgindy\\anaconda3\\lib\\site-packages (from pytest==6.2.5->appdata==2.1.1->to-requirements.txt) (21.0)\n",
      "Requirement already satisfied: py>=1.8.2 in c:\\users\\elgindy\\anaconda3\\lib\\site-packages (from pytest==6.2.5->appdata==2.1.1->to-requirements.txt) (1.10.0)\n",
      "Requirement already satisfied: atomicwrites>=1.0 in c:\\users\\elgindy\\anaconda3\\lib\\site-packages (from pytest==6.2.5->appdata==2.1.1->to-requirements.txt) (1.4.0)\n",
      "Requirement already satisfied: idna<4,>=2.5 in c:\\users\\elgindy\\anaconda3\\lib\\site-packages (from requests>=1.0.0->coveralls==3.3.1->appdata==2.1.1->to-requirements.txt) (3.2)\n",
      "Requirement already satisfied: charset-normalizer~=2.0.0 in c:\\users\\elgindy\\anaconda3\\lib\\site-packages (from requests>=1.0.0->coveralls==3.3.1->appdata==2.1.1->to-requirements.txt) (2.0.4)\n",
      "Requirement already satisfied: certifi>=2017.4.17 in c:\\users\\elgindy\\anaconda3\\lib\\site-packages (from requests>=1.0.0->coveralls==3.3.1->appdata==2.1.1->to-requirements.txt) (2021.10.8)\n",
      "Requirement already satisfied: urllib3<1.27,>=1.21.1 in c:\\users\\elgindy\\anaconda3\\lib\\site-packages (from requests>=1.0.0->coveralls==3.3.1->appdata==2.1.1->to-requirements.txt) (1.26.7)\n",
      "Requirement already satisfied: pyparsing>=2.0.2 in c:\\users\\elgindy\\anaconda3\\lib\\site-packages (from packaging->pytest==6.2.5->appdata==2.1.1->to-requirements.txt) (3.0.4)\n",
      "Installing collected packages: win32-setctime, coverage, pytest, loguru, coveralls, appdata, to-requirements.txt\n",
      "  Attempting uninstall: pytest\n",
      "    Found existing installation: pytest 6.2.4\n",
      "    Uninstalling pytest-6.2.4:\n",
      "      Successfully uninstalled pytest-6.2.4\n",
      "Successfully installed appdata-2.1.1 coverage-6.2 coveralls-3.3.1 loguru-0.4.1 pytest-6.2.5 to-requirements.txt-1.1.5 win32-setctime-1.0.4\n"
     ]
    }
   ],
   "source": [
    "!pip install to-requirements.txt"
   ]
  },
  {
   "cell_type": "code",
   "execution_count": 12,
   "id": "270d1a53",
   "metadata": {},
   "outputs": [
    {
     "name": "stdout",
     "output_type": "stream",
     "text": [
      "Python 3.9.7\n"
     ]
    }
   ],
   "source": [
    "!python -V"
   ]
  },
  {
   "cell_type": "code",
   "execution_count": null,
   "id": "901d721a",
   "metadata": {},
   "outputs": [],
   "source": []
  }
 ],
 "metadata": {
  "kernelspec": {
   "display_name": "Python 3 (ipykernel)",
   "language": "python",
   "name": "python3"
  },
  "language_info": {
   "codemirror_mode": {
    "name": "ipython",
    "version": 3
   },
   "file_extension": ".py",
   "mimetype": "text/x-python",
   "name": "python",
   "nbconvert_exporter": "python",
   "pygments_lexer": "ipython3",
   "version": "3.9.7"
  }
 },
 "nbformat": 4,
 "nbformat_minor": 5
}
